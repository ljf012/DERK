{
 "cells": [
  {
   "cell_type": "code",
   "execution_count": 2,
   "metadata": {},
   "outputs": [
    {
     "name": "stderr",
     "output_type": "stream",
     "text": [
      "<ipython-input-2-e1e0bd37b238>:7: ParserWarning: Falling back to the 'python' engine because the 'c' engine does not support regex separators (separators > 1 char and different from '\\s+' are interpreted as regex); you can avoid this warning by specifying engine='python'.\n",
      "  df = pd.read_csv('./ml-1m/movies.dat', sep='::', names=['movieId', 'title', 'genres'])\n"
     ]
    },
    {
     "data": {
      "text/html": [
       "<div>\n",
       "<style scoped>\n",
       "    .dataframe tbody tr th:only-of-type {\n",
       "        vertical-align: middle;\n",
       "    }\n",
       "\n",
       "    .dataframe tbody tr th {\n",
       "        vertical-align: top;\n",
       "    }\n",
       "\n",
       "    .dataframe thead th {\n",
       "        text-align: right;\n",
       "    }\n",
       "</style>\n",
       "<table border=\"1\" class=\"dataframe\">\n",
       "  <thead>\n",
       "    <tr style=\"text-align: right;\">\n",
       "      <th></th>\n",
       "      <th>movieId</th>\n",
       "      <th>title</th>\n",
       "      <th>genres</th>\n",
       "    </tr>\n",
       "  </thead>\n",
       "  <tbody>\n",
       "    <tr>\n",
       "      <th>0</th>\n",
       "      <td>1</td>\n",
       "      <td>Toy Story (1995)</td>\n",
       "      <td>Animation</td>\n",
       "    </tr>\n",
       "    <tr>\n",
       "      <th>0</th>\n",
       "      <td>1</td>\n",
       "      <td>Toy Story (1995)</td>\n",
       "      <td>Children's</td>\n",
       "    </tr>\n",
       "    <tr>\n",
       "      <th>0</th>\n",
       "      <td>1</td>\n",
       "      <td>Toy Story (1995)</td>\n",
       "      <td>Comedy</td>\n",
       "    </tr>\n",
       "    <tr>\n",
       "      <th>1</th>\n",
       "      <td>2</td>\n",
       "      <td>Jumanji (1995)</td>\n",
       "      <td>Adventure</td>\n",
       "    </tr>\n",
       "    <tr>\n",
       "      <th>1</th>\n",
       "      <td>2</td>\n",
       "      <td>Jumanji (1995)</td>\n",
       "      <td>Children's</td>\n",
       "    </tr>\n",
       "    <tr>\n",
       "      <th>...</th>\n",
       "      <td>...</td>\n",
       "      <td>...</td>\n",
       "      <td>...</td>\n",
       "    </tr>\n",
       "    <tr>\n",
       "      <th>3879</th>\n",
       "      <td>3949</td>\n",
       "      <td>Requiem for a Dream (2000)</td>\n",
       "      <td>Drama</td>\n",
       "    </tr>\n",
       "    <tr>\n",
       "      <th>3880</th>\n",
       "      <td>3950</td>\n",
       "      <td>Tigerland (2000)</td>\n",
       "      <td>Drama</td>\n",
       "    </tr>\n",
       "    <tr>\n",
       "      <th>3881</th>\n",
       "      <td>3951</td>\n",
       "      <td>Two Family House (2000)</td>\n",
       "      <td>Drama</td>\n",
       "    </tr>\n",
       "    <tr>\n",
       "      <th>3882</th>\n",
       "      <td>3952</td>\n",
       "      <td>Contender, The (2000)</td>\n",
       "      <td>Drama</td>\n",
       "    </tr>\n",
       "    <tr>\n",
       "      <th>3882</th>\n",
       "      <td>3952</td>\n",
       "      <td>Contender, The (2000)</td>\n",
       "      <td>Thriller</td>\n",
       "    </tr>\n",
       "  </tbody>\n",
       "</table>\n",
       "<p>6408 rows × 3 columns</p>\n",
       "</div>"
      ],
      "text/plain": [
       "      movieId                       title      genres\n",
       "0           1            Toy Story (1995)   Animation\n",
       "0           1            Toy Story (1995)  Children's\n",
       "0           1            Toy Story (1995)      Comedy\n",
       "1           2              Jumanji (1995)   Adventure\n",
       "1           2              Jumanji (1995)  Children's\n",
       "...       ...                         ...         ...\n",
       "3879     3949  Requiem for a Dream (2000)       Drama\n",
       "3880     3950            Tigerland (2000)       Drama\n",
       "3881     3951     Two Family House (2000)       Drama\n",
       "3882     3952       Contender, The (2000)       Drama\n",
       "3882     3952       Contender, The (2000)    Thriller\n",
       "\n",
       "[6408 rows x 3 columns]"
      ]
     },
     "execution_count": 2,
     "metadata": {},
     "output_type": "execute_result"
    }
   ],
   "source": [
    "import pandas as pd\n",
    "import gzip\n",
    "import json\n",
    "\n",
    "df = pd.read_csv('./ml-1m/movies.dat', sep='::', names=['movieId', 'title', 'genres'])\n",
    "df['genres'] = df['genres'].str.split('|')\n",
    "df = df.explode(\"genres\")\n",
    "df"
   ]
  },
  {
   "cell_type": "code",
   "execution_count": 3,
   "metadata": {},
   "outputs": [
    {
     "data": {
      "text/plain": [
       "0          1\n",
       "1          2\n",
       "2          3\n",
       "3          4\n",
       "4          5\n",
       "        ... \n",
       "3701    3948\n",
       "3702    3949\n",
       "3703    3950\n",
       "3704    3951\n",
       "3705    3952\n",
       "Name: org_id, Length: 3706, dtype: int64"
      ]
     },
     "execution_count": 3,
     "metadata": {},
     "output_type": "execute_result"
    }
   ],
   "source": [
    "item = pd.read_table('./item_list.txt', sep='\\s+')\n",
    "item['org_id']"
   ]
  },
  {
   "cell_type": "code",
   "execution_count": 4,
   "metadata": {},
   "outputs": [
    {
     "data": {
      "text/plain": [
       "0           Drama\n",
       "1          Comedy\n",
       "2          Action\n",
       "3        Thriller\n",
       "4         Romance\n",
       "5          Horror\n",
       "6       Adventure\n",
       "7          Sci-Fi\n",
       "8      Children's\n",
       "9           Crime\n",
       "10            War\n",
       "11    Documentary\n",
       "12        Musical\n",
       "13        Mystery\n",
       "14      Animation\n",
       "15        Fantasy\n",
       "16        Western\n",
       "17      Film-Noir\n",
       "Name: category, dtype: object"
      ]
     },
     "execution_count": 4,
     "metadata": {},
     "output_type": "execute_result"
    }
   ],
   "source": [
    "cate = pd.read_table('./category_list.txt')\n",
    "cate['category']"
   ]
  },
  {
   "cell_type": "code",
   "execution_count": 5,
   "metadata": {},
   "outputs": [
    {
     "data": {
      "text/plain": [
       "['Animation', \"Children's\", 'Comedy']"
      ]
     },
     "execution_count": 5,
     "metadata": {},
     "output_type": "execute_result"
    }
   ],
   "source": [
    "org_id = item.loc[0]['org_id']\n",
    "meta = df[df['movieId'] == org_id]\n",
    "meta['genres'].tolist()"
   ]
  },
  {
   "cell_type": "code",
   "execution_count": 6,
   "metadata": {},
   "outputs": [
    {
     "name": "stderr",
     "output_type": "stream",
     "text": [
      "100%|██████████| 3706/3706 [00:04<00:00, 780.70it/s]\n"
     ]
    },
    {
     "data": {
      "text/html": [
       "<div>\n",
       "<style scoped>\n",
       "    .dataframe tbody tr th:only-of-type {\n",
       "        vertical-align: middle;\n",
       "    }\n",
       "\n",
       "    .dataframe tbody tr th {\n",
       "        vertical-align: top;\n",
       "    }\n",
       "\n",
       "    .dataframe thead th {\n",
       "        text-align: right;\n",
       "    }\n",
       "</style>\n",
       "<table border=\"1\" class=\"dataframe\">\n",
       "  <thead>\n",
       "    <tr style=\"text-align: right;\">\n",
       "      <th></th>\n",
       "      <th>item_id</th>\n",
       "      <th>cate_id</th>\n",
       "    </tr>\n",
       "  </thead>\n",
       "  <tbody>\n",
       "    <tr>\n",
       "      <th>0</th>\n",
       "      <td>0</td>\n",
       "      <td>1</td>\n",
       "    </tr>\n",
       "    <tr>\n",
       "      <th>1</th>\n",
       "      <td>1</td>\n",
       "      <td>6</td>\n",
       "    </tr>\n",
       "    <tr>\n",
       "      <th>2</th>\n",
       "      <td>2</td>\n",
       "      <td>1</td>\n",
       "    </tr>\n",
       "    <tr>\n",
       "      <th>3</th>\n",
       "      <td>3</td>\n",
       "      <td>0</td>\n",
       "    </tr>\n",
       "    <tr>\n",
       "      <th>4</th>\n",
       "      <td>4</td>\n",
       "      <td>1</td>\n",
       "    </tr>\n",
       "    <tr>\n",
       "      <th>...</th>\n",
       "      <td>...</td>\n",
       "      <td>...</td>\n",
       "    </tr>\n",
       "    <tr>\n",
       "      <th>3701</th>\n",
       "      <td>3701</td>\n",
       "      <td>1</td>\n",
       "    </tr>\n",
       "    <tr>\n",
       "      <th>3702</th>\n",
       "      <td>3702</td>\n",
       "      <td>0</td>\n",
       "    </tr>\n",
       "    <tr>\n",
       "      <th>3703</th>\n",
       "      <td>3703</td>\n",
       "      <td>0</td>\n",
       "    </tr>\n",
       "    <tr>\n",
       "      <th>3704</th>\n",
       "      <td>3704</td>\n",
       "      <td>0</td>\n",
       "    </tr>\n",
       "    <tr>\n",
       "      <th>3705</th>\n",
       "      <td>3705</td>\n",
       "      <td>0</td>\n",
       "    </tr>\n",
       "  </tbody>\n",
       "</table>\n",
       "<p>3706 rows × 2 columns</p>\n",
       "</div>"
      ],
      "text/plain": [
       "      item_id  cate_id\n",
       "0           0        1\n",
       "1           1        6\n",
       "2           2        1\n",
       "3           3        0\n",
       "4           4        1\n",
       "...       ...      ...\n",
       "3701     3701        1\n",
       "3702     3702        0\n",
       "3703     3703        0\n",
       "3704     3704        0\n",
       "3705     3705        0\n",
       "\n",
       "[3706 rows x 2 columns]"
      ]
     },
     "execution_count": 6,
     "metadata": {},
     "output_type": "execute_result"
    }
   ],
   "source": [
    "import math\n",
    "import numpy as np\n",
    "from tqdm import tqdm\n",
    "\n",
    "i_c = {\n",
    "    'item_id' : item['remap_id'].tolist(),\n",
    "    'cate_id' : []\n",
    "}\n",
    "\n",
    "for i in tqdm(range(len(i_c['item_id']))):\n",
    "    org_id = item.loc[i]['org_id']\n",
    "    meta = df[df['movieId'] == org_id]\n",
    "    m_cate = meta['genres'].tolist()\n",
    "\n",
    "    c_id = []\n",
    "    # print(i)\n",
    "    '''有两种情况，一种是在meta里没有记录该物品，一种是有记录但类别为NaN'''\n",
    "    if len(m_cate) == 0:\n",
    "        i_c['cate_id'].append([18])\n",
    "        continue\n",
    "    elif type(m_cate[0]) != str and math.isnan(m_cate[0]):\n",
    "        i_c['cate_id'].append([18])\n",
    "        continue\n",
    "    else:\n",
    "        for j in range(len(m_cate)):\n",
    "            # print(cate[cate.category == m_cate[j]]['cate_id'].values)\n",
    "            c_id.append(int(cate[cate.category == m_cate[j]]['cate_id'].values))\n",
    "        # print(c_id)\n",
    "        i_c['cate_id'].append(np.random.choice(c_id))\n",
    "\n",
    "i_c = pd.DataFrame(i_c)\n",
    "i_c.to_csv('./item_cate.txt', sep='\\t', index=False)\n",
    "i_c"
   ]
  }
 ],
 "metadata": {
  "interpreter": {
   "hash": "fc7875f5179efc245b6e3b3eaf51ab0d0df551d1a47b46c8bffca293fe4efec2"
  },
  "kernelspec": {
   "display_name": "Python 3.8.10 64-bit ('junfa': conda)",
   "name": "python3"
  },
  "language_info": {
   "codemirror_mode": {
    "name": "ipython",
    "version": 3
   },
   "file_extension": ".py",
   "mimetype": "text/x-python",
   "name": "python",
   "nbconvert_exporter": "python",
   "pygments_lexer": "ipython3",
   "version": "3.8.10"
  },
  "orig_nbformat": 4
 },
 "nbformat": 4,
 "nbformat_minor": 2
}
